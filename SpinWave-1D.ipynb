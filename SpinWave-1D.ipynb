{
 "cells": [
  {
   "cell_type": "code",
   "execution_count": 19,
   "id": "e78d6ed6",
   "metadata": {},
   "outputs": [
    {
     "data": {
      "application/vnd.jupyter.widget-view+json": {
       "model_id": "12e80fc57d824de19c0d846ab9c2893b",
       "version_major": 2,
       "version_minor": 0
      },
      "text/plain": [
       "interactive(children=(FloatSlider(value=0.5, description='J', max=5.0, step=0.5), FloatSlider(value=0.5, descr…"
      ]
     },
     "metadata": {},
     "output_type": "display_data"
    },
    {
     "data": {
      "text/plain": [
       "<function __main__.plot_dispersion_magnon_ferri(J=0.5, S=0.5, a=1, max_q=2)>"
      ]
     },
     "execution_count": 19,
     "metadata": {},
     "output_type": "execute_result"
    }
   ],
   "source": [
    "import numpy as np\n",
    "import matplotlib.pyplot as plt\n",
    "from ipywidgets import interact, FloatSlider,IntSlider \n",
    "import scipy.constants as cte\n",
    "\n",
    "def plot_dispersion_magnon_ferri(J=0.5,S=0.5,a=1,max_q=2):\n",
    "    #valores de q y a normales\n",
    "    q = np.linspace(0,max_q,max_q*1000)\n",
    "    plt.plot(q, relacion_dispersion_f(J,S,a,q))\n",
    "    plt.xlabel('q')\n",
    "    plt.ylabel('ω(q)')\n",
    "    plt.grid(True)\n",
    "    plt.title('Dispersión de ondas de espín en 1D')\n",
    "    plt.show()\n",
    "\n",
    "#----------FERROMAGNETICO\n",
    "\n",
    "def relacion_dispersion_f(J,S,a,q):\n",
    "    return ((4*J*S))*(1-np.cos(q*a))\n",
    "\n",
    "# Sliders interactivos\n",
    "interact(plot_dispersion_magnon_ferri,\n",
    "         J=FloatSlider(value=0.5, min=0, max=5, step=0.5, description='J'),\n",
    "         S=FloatSlider(value=0.5, min=0, max=5, step=0.5, description='S'),\n",
    "         a=FloatSlider(value=1, min=0.000001, max=5, step=0.1, description='a'),\n",
    "         max_q=IntSlider(value=2, min=1, max=15, step=1, description ='q'))\n",
    "\n",
    "\n"
   ]
  }
 ],
 "metadata": {
  "kernelspec": {
   "display_name": "base",
   "language": "python",
   "name": "python3"
  },
  "language_info": {
   "codemirror_mode": {
    "name": "ipython",
    "version": 3
   },
   "file_extension": ".py",
   "mimetype": "text/x-python",
   "name": "python",
   "nbconvert_exporter": "python",
   "pygments_lexer": "ipython3",
   "version": "3.11.5"
  }
 },
 "nbformat": 4,
 "nbformat_minor": 5
}
